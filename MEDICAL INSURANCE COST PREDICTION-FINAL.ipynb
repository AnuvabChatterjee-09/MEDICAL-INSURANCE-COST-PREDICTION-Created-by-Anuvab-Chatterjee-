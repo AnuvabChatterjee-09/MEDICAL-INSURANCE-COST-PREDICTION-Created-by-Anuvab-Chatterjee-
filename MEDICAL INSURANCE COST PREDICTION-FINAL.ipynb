{
 "cells": [
  {
   "cell_type": "markdown",
   "id": "36a06160",
   "metadata": {},
   "source": [
    "# IMPORTING THE DEPENDENCIES"
   ]
  },
  {
   "cell_type": "code",
   "execution_count": 145,
   "id": "2f8489a9",
   "metadata": {},
   "outputs": [],
   "source": [
    "import numpy as np\n",
    "import pandas as pd\n",
    "import matplotlib.pyplot as plt\n",
    "import seaborn as sns\n",
    "from sklearn.model_selection import train_test_split\n",
    "from sklearn.linear_model import LinearRegression\n",
    "from sklearn import metrics\n",
    "from sklearn.metrics import r2_score"
   ]
  },
  {
   "cell_type": "markdown",
   "id": "a6787b8f",
   "metadata": {},
   "source": [
    "# DATA COLLECTION AND ANALYSIS"
   ]
  },
  {
   "cell_type": "code",
   "execution_count": 146,
   "id": "4e4370b3",
   "metadata": {},
   "outputs": [],
   "source": [
    "# Loading the data from csv file to a Pandas DataFrame\n",
    "insurance_dataset = pd.read_csv('C:/Users/Lenovo/OneDrive/Desktop/AEC ML/insurance.csv')"
   ]
  },
  {
   "cell_type": "code",
   "execution_count": 147,
   "id": "7da9d45c",
   "metadata": {},
   "outputs": [
    {
     "data": {
      "text/html": [
       "<div>\n",
       "<style scoped>\n",
       "    .dataframe tbody tr th:only-of-type {\n",
       "        vertical-align: middle;\n",
       "    }\n",
       "\n",
       "    .dataframe tbody tr th {\n",
       "        vertical-align: top;\n",
       "    }\n",
       "\n",
       "    .dataframe thead th {\n",
       "        text-align: right;\n",
       "    }\n",
       "</style>\n",
       "<table border=\"1\" class=\"dataframe\">\n",
       "  <thead>\n",
       "    <tr style=\"text-align: right;\">\n",
       "      <th></th>\n",
       "      <th>age</th>\n",
       "      <th>sex</th>\n",
       "      <th>bmi</th>\n",
       "      <th>children</th>\n",
       "      <th>smoker</th>\n",
       "      <th>region</th>\n",
       "      <th>charges</th>\n",
       "    </tr>\n",
       "  </thead>\n",
       "  <tbody>\n",
       "    <tr>\n",
       "      <th>0</th>\n",
       "      <td>19</td>\n",
       "      <td>female</td>\n",
       "      <td>27.900</td>\n",
       "      <td>0</td>\n",
       "      <td>yes</td>\n",
       "      <td>southwest</td>\n",
       "      <td>16884.92400</td>\n",
       "    </tr>\n",
       "    <tr>\n",
       "      <th>1</th>\n",
       "      <td>18</td>\n",
       "      <td>male</td>\n",
       "      <td>33.770</td>\n",
       "      <td>1</td>\n",
       "      <td>no</td>\n",
       "      <td>southeast</td>\n",
       "      <td>1725.55230</td>\n",
       "    </tr>\n",
       "    <tr>\n",
       "      <th>2</th>\n",
       "      <td>28</td>\n",
       "      <td>male</td>\n",
       "      <td>33.000</td>\n",
       "      <td>3</td>\n",
       "      <td>no</td>\n",
       "      <td>southeast</td>\n",
       "      <td>4449.46200</td>\n",
       "    </tr>\n",
       "    <tr>\n",
       "      <th>3</th>\n",
       "      <td>33</td>\n",
       "      <td>male</td>\n",
       "      <td>22.705</td>\n",
       "      <td>0</td>\n",
       "      <td>no</td>\n",
       "      <td>northwest</td>\n",
       "      <td>21984.47061</td>\n",
       "    </tr>\n",
       "    <tr>\n",
       "      <th>4</th>\n",
       "      <td>32</td>\n",
       "      <td>male</td>\n",
       "      <td>28.880</td>\n",
       "      <td>0</td>\n",
       "      <td>no</td>\n",
       "      <td>northwest</td>\n",
       "      <td>3866.85520</td>\n",
       "    </tr>\n",
       "  </tbody>\n",
       "</table>\n",
       "</div>"
      ],
      "text/plain": [
       "   age     sex     bmi  children smoker     region      charges\n",
       "0   19  female  27.900         0    yes  southwest  16884.92400\n",
       "1   18    male  33.770         1     no  southeast   1725.55230\n",
       "2   28    male  33.000         3     no  southeast   4449.46200\n",
       "3   33    male  22.705         0     no  northwest  21984.47061\n",
       "4   32    male  28.880         0     no  northwest   3866.85520"
      ]
     },
     "execution_count": 147,
     "metadata": {},
     "output_type": "execute_result"
    }
   ],
   "source": [
    "# First 5 rows of DataFrame\n",
    "insurance_dataset.head()"
   ]
  },
  {
   "cell_type": "code",
   "execution_count": 148,
   "id": "0bc6891c",
   "metadata": {},
   "outputs": [
    {
     "data": {
      "text/plain": [
       "(1338, 7)"
      ]
     },
     "execution_count": 148,
     "metadata": {},
     "output_type": "execute_result"
    }
   ],
   "source": [
    "# Number of rows and columns \n",
    "insurance_dataset.shape"
   ]
  },
  {
   "cell_type": "code",
   "execution_count": 149,
   "id": "9c21636c",
   "metadata": {},
   "outputs": [
    {
     "name": "stdout",
     "output_type": "stream",
     "text": [
      "<class 'pandas.core.frame.DataFrame'>\n",
      "RangeIndex: 1338 entries, 0 to 1337\n",
      "Data columns (total 7 columns):\n",
      " #   Column    Non-Null Count  Dtype  \n",
      "---  ------    --------------  -----  \n",
      " 0   age       1338 non-null   int64  \n",
      " 1   sex       1338 non-null   object \n",
      " 2   bmi       1338 non-null   float64\n",
      " 3   children  1338 non-null   int64  \n",
      " 4   smoker    1338 non-null   object \n",
      " 5   region    1338 non-null   object \n",
      " 6   charges   1338 non-null   float64\n",
      "dtypes: float64(2), int64(2), object(3)\n",
      "memory usage: 73.3+ KB\n"
     ]
    }
   ],
   "source": [
    "# Getting Some Information about the dataset\n",
    "insurance_dataset.info()"
   ]
  },
  {
   "cell_type": "code",
   "execution_count": 150,
   "id": "d8dfbc3d",
   "metadata": {},
   "outputs": [
    {
     "data": {
      "text/plain": [
       "age         0\n",
       "sex         0\n",
       "bmi         0\n",
       "children    0\n",
       "smoker      0\n",
       "region      0\n",
       "charges     0\n",
       "dtype: int64"
      ]
     },
     "execution_count": 150,
     "metadata": {},
     "output_type": "execute_result"
    }
   ],
   "source": [
    "# Checking for missing values in each column\n",
    "insurance_dataset.isnull().sum()"
   ]
  },
  {
   "cell_type": "markdown",
   "id": "ed495c66",
   "metadata": {},
   "source": [
    "# DATA ANALYSIS"
   ]
  },
  {
   "cell_type": "code",
   "execution_count": 151,
   "id": "78a819e0",
   "metadata": {},
   "outputs": [
    {
     "data": {
      "text/html": [
       "<div>\n",
       "<style scoped>\n",
       "    .dataframe tbody tr th:only-of-type {\n",
       "        vertical-align: middle;\n",
       "    }\n",
       "\n",
       "    .dataframe tbody tr th {\n",
       "        vertical-align: top;\n",
       "    }\n",
       "\n",
       "    .dataframe thead th {\n",
       "        text-align: right;\n",
       "    }\n",
       "</style>\n",
       "<table border=\"1\" class=\"dataframe\">\n",
       "  <thead>\n",
       "    <tr style=\"text-align: right;\">\n",
       "      <th></th>\n",
       "      <th>age</th>\n",
       "      <th>bmi</th>\n",
       "      <th>children</th>\n",
       "      <th>charges</th>\n",
       "    </tr>\n",
       "  </thead>\n",
       "  <tbody>\n",
       "    <tr>\n",
       "      <th>count</th>\n",
       "      <td>1338.000000</td>\n",
       "      <td>1338.000000</td>\n",
       "      <td>1338.000000</td>\n",
       "      <td>1338.000000</td>\n",
       "    </tr>\n",
       "    <tr>\n",
       "      <th>mean</th>\n",
       "      <td>39.207025</td>\n",
       "      <td>30.663397</td>\n",
       "      <td>1.094918</td>\n",
       "      <td>13270.422265</td>\n",
       "    </tr>\n",
       "    <tr>\n",
       "      <th>std</th>\n",
       "      <td>14.049960</td>\n",
       "      <td>6.098187</td>\n",
       "      <td>1.205493</td>\n",
       "      <td>12110.011237</td>\n",
       "    </tr>\n",
       "    <tr>\n",
       "      <th>min</th>\n",
       "      <td>18.000000</td>\n",
       "      <td>15.960000</td>\n",
       "      <td>0.000000</td>\n",
       "      <td>1121.873900</td>\n",
       "    </tr>\n",
       "    <tr>\n",
       "      <th>25%</th>\n",
       "      <td>27.000000</td>\n",
       "      <td>26.296250</td>\n",
       "      <td>0.000000</td>\n",
       "      <td>4740.287150</td>\n",
       "    </tr>\n",
       "    <tr>\n",
       "      <th>50%</th>\n",
       "      <td>39.000000</td>\n",
       "      <td>30.400000</td>\n",
       "      <td>1.000000</td>\n",
       "      <td>9382.033000</td>\n",
       "    </tr>\n",
       "    <tr>\n",
       "      <th>75%</th>\n",
       "      <td>51.000000</td>\n",
       "      <td>34.693750</td>\n",
       "      <td>2.000000</td>\n",
       "      <td>16639.912515</td>\n",
       "    </tr>\n",
       "    <tr>\n",
       "      <th>max</th>\n",
       "      <td>64.000000</td>\n",
       "      <td>53.130000</td>\n",
       "      <td>5.000000</td>\n",
       "      <td>63770.428010</td>\n",
       "    </tr>\n",
       "  </tbody>\n",
       "</table>\n",
       "</div>"
      ],
      "text/plain": [
       "               age          bmi     children       charges\n",
       "count  1338.000000  1338.000000  1338.000000   1338.000000\n",
       "mean     39.207025    30.663397     1.094918  13270.422265\n",
       "std      14.049960     6.098187     1.205493  12110.011237\n",
       "min      18.000000    15.960000     0.000000   1121.873900\n",
       "25%      27.000000    26.296250     0.000000   4740.287150\n",
       "50%      39.000000    30.400000     1.000000   9382.033000\n",
       "75%      51.000000    34.693750     2.000000  16639.912515\n",
       "max      64.000000    53.130000     5.000000  63770.428010"
      ]
     },
     "execution_count": 151,
     "metadata": {},
     "output_type": "execute_result"
    }
   ],
   "source": [
    "# Statistical measures of the dataset\n",
    "insurance_dataset.describe()"
   ]
  },
  {
   "cell_type": "code",
   "execution_count": 152,
   "id": "ec741188",
   "metadata": {},
   "outputs": [
    {
     "name": "stderr",
     "output_type": "stream",
     "text": [
      "C:\\Users\\Lenovo\\anaconda3\\lib\\site-packages\\seaborn\\distributions.py:2619: FutureWarning: `distplot` is a deprecated function and will be removed in a future version. Please adapt your code to use either `displot` (a figure-level function with similar flexibility) or `histplot` (an axes-level function for histograms).\n",
      "  warnings.warn(msg, FutureWarning)\n"
     ]
    },
    {
     "data": {
      "image/png": "[encoded data removed]",
      "text/plain": [
       "<Figure size 504x504 with 1 Axes>"
      ]
     },
     "metadata": {},
     "output_type": "display_data"
    }
   ],
   "source": [
    "# Distribution of 'age' value\n",
    "sns.set()\n",
    "plt.figure(figsize=(7,7))\n",
    "sns.distplot(insurance_dataset['age'])\n",
    "plt.title('Age Distribution')\n",
    "plt.show()"
   ]
  },
  {
   "cell_type": "code",
   "execution_count": 153,
   "id": "44074f37",
   "metadata": {},
   "outputs": [
    {
     "data": {
      "image/png": "[encoded data removed]",
      "text/plain": [
       "<Figure size 504x504 with 1 Axes>"
      ]
     },
     "metadata": {},
     "output_type": "display_data"
    }
   ],
   "source": [
    "# Distribution of 'sex' column\n",
    "plt.figure(figsize=(7,7))\n",
    "sns.countplot(x='sex',data=insurance_dataset)\n",
    "plt.title(\"Sex Distribution\")\n",
    "plt.show()"
   ]
  },
  {
   "cell_type": "code",
   "execution_count": 154,
   "id": "5eb487b5",
   "metadata": {},
   "outputs": [
    {
     "data": {
      "text/plain": [
       "male      676\n",
       "female    662\n",
       "Name: sex, dtype: int64"
      ]
     },
     "execution_count": 154,
     "metadata": {},
     "output_type": "execute_result"
    }
   ],
   "source": [
    "# Number of Males and Females\n",
    "insurance_dataset['sex'].value_counts()"
   ]
  },
  {
   "cell_type": "code",
   "execution_count": 155,
   "id": "1782bdfa",
   "metadata": {},
   "outputs": [
    {
     "name": "stderr",
     "output_type": "stream",
     "text": [
      "C:\\Users\\Lenovo\\anaconda3\\lib\\site-packages\\seaborn\\distributions.py:2619: FutureWarning: `distplot` is a deprecated function and will be removed in a future version. Please adapt your code to use either `displot` (a figure-level function with similar flexibility) or `histplot` (an axes-level function for histograms).\n",
      "  warnings.warn(msg, FutureWarning)\n"
     ]
    },
    {
     "data": {
      "image/png": "[encoded data removed]",
      "text/plain": [
       "<Figure size 504x504 with 1 Axes>"
      ]
     },
     "metadata": {},
     "output_type": "display_data"
    }
   ],
   "source": [
    "# Distribution of 'bmi' value\n",
    "sns.set()\n",
    "plt.figure(figsize=(7,7))\n",
    "sns.distplot(insurance_dataset['bmi'])\n",
    "plt.title('BMI Distribution')\n",
    "plt.show()"
   ]
  },
  {
   "cell_type": "markdown",
   "id": "edb8f94f",
   "metadata": {},
   "source": [
    "#### Normal BMI Range ----> 18.5 to 24.9"
   ]
  },
  {
   "cell_type": "code",
   "execution_count": 156,
   "id": "edbe3e26",
   "metadata": {},
   "outputs": [
    {
     "data": {
      "image/png": "[encoded data removed]",
      "text/plain": [
       "<Figure size 504x504 with 1 Axes>"
      ]
     },
     "metadata": {},
     "output_type": "display_data"
    }
   ],
   "source": [
    "# Distribution of 'children' column\n",
    "plt.figure(figsize=(7,7))\n",
    "sns.countplot(x='children',data=insurance_dataset)\n",
    "plt.title(\"Children Distribution\")\n",
    "plt.show()"
   ]
  },
  {
   "cell_type": "code",
   "execution_count": 157,
   "id": "0c4a1d76",
   "metadata": {},
   "outputs": [
    {
     "data": {
      "text/plain": [
       "0    574\n",
       "1    324\n",
       "2    240\n",
       "3    157\n",
       "4     25\n",
       "5     18\n",
       "Name: children, dtype: int64"
      ]
     },
     "execution_count": 157,
     "metadata": {},
     "output_type": "execute_result"
    }
   ],
   "source": [
    "# Number of childrens\n",
    "insurance_dataset['children'].value_counts()"
   ]
  },
  {
   "cell_type": "code",
   "execution_count": 158,
   "id": "fc32e459",
   "metadata": {},
   "outputs": [
    {
     "data": {
      "image/png": "[encoded data removed]",
      "text/plain": [
       "<Figure size 504x504 with 1 Axes>"
      ]
     },
     "metadata": {},
     "output_type": "display_data"
    }
   ],
   "source": [
    "# Distribution of 'smoker' column\n",
    "plt.figure(figsize=(7,7))\n",
    "sns.countplot(x='smoker',data=insurance_dataset)\n",
    "plt.title(\"Smoker Distribution\")\n",
    "plt.show()"
   ]
  },
  {
   "cell_type": "code",
   "execution_count": 159,
   "id": "1fe33cdb",
   "metadata": {},
   "outputs": [
    {
     "data": {
      "text/plain": [
       "no     1064\n",
       "yes     274\n",
       "Name: smoker, dtype: int64"
      ]
     },
     "execution_count": 159,
     "metadata": {},
     "output_type": "execute_result"
    }
   ],
   "source": [
    "# Number of smokers\n",
    "insurance_dataset['smoker'].value_counts()"
   ]
  },
  {
   "cell_type": "code",
   "execution_count": 160,
   "id": "c065bec6",
   "metadata": {},
   "outputs": [
    {
     "data": {
      "image/png": "[encoded data removed]",
      "text/plain": [
       "<Figure size 504x504 with 1 Axes>"
      ]
     },
     "metadata": {},
     "output_type": "display_data"
    }
   ],
   "source": [
    "# Distribution of 'region' column\n",
    "plt.figure(figsize=(7,7))\n",
    "sns.countplot(x='region',data=insurance_dataset)\n",
    "plt.title(\"Region Distribution\")\n",
    "plt.show()"
   ]
  },
  {
   "cell_type": "code",
   "execution_count": 161,
   "id": "761d6bc9",
   "metadata": {},
   "outputs": [
    {
     "data": {
      "text/plain": [
       "southeast    364\n",
       "southwest    325\n",
       "northwest    325\n",
       "northeast    324\n",
       "Name: region, dtype: int64"
      ]
     },
     "execution_count": 161,
     "metadata": {},
     "output_type": "execute_result"
    }
   ],
   "source": [
    "# Number of people in each region\n",
    "insurance_dataset['region'].value_counts()"
   ]
  },
  {
   "cell_type": "code",
   "execution_count": 162,
   "id": "9bba5b62",
   "metadata": {},
   "outputs": [
    {
     "name": "stderr",
     "output_type": "stream",
     "text": [
      "C:\\Users\\Lenovo\\anaconda3\\lib\\site-packages\\seaborn\\distributions.py:2619: FutureWarning: `distplot` is a deprecated function and will be removed in a future version. Please adapt your code to use either `displot` (a figure-level function with similar flexibility) or `histplot` (an axes-level function for histograms).\n",
      "  warnings.warn(msg, FutureWarning)\n"
     ]
    },
    {
     "data": {
      "image/png": "[encoded data removed]",
      "text/plain": [
       "<Figure size 504x504 with 1 Axes>"
      ]
     },
     "metadata": {},
     "output_type": "display_data"
    }
   ],
   "source": [
    "# Distribution of 'charges' value\n",
    "sns.set()\n",
    "plt.figure(figsize=(7,7))\n",
    "sns.distplot(insurance_dataset['charges'])\n",
    "plt.title('Charge Distribution')\n",
    "plt.show()"
   ]
  },
  {
   "cell_type": "code",
   "execution_count": 163,
   "id": "cfeaa0c1",
   "metadata": {},
   "outputs": [
    {
     "data": {
      "text/plain": [
       "<matplotlib.collections.PathCollection at 0x154dc9bdbb0>"
      ]
     },
     "execution_count": 163,
     "metadata": {},
     "output_type": "execute_result"
    },
    {
     "data": {
      "image/png": "[encoded data removed]",
      "text/plain": [
       "<Figure size 432x288 with 1 Axes>"
      ]
     },
     "metadata": {},
     "output_type": "display_data"
    }
   ],
   "source": [
    "#scatter plot between Age and Charges\n",
    "plt.scatter(insurance_dataset.age,insurance_dataset.charges)"
   ]
  },
  {
   "cell_type": "code",
   "execution_count": 164,
   "id": "598dd687",
   "metadata": {},
   "outputs": [
    {
     "data": {
      "text/plain": [
       "<matplotlib.collections.PathCollection at 0x154dd3ba250>"
      ]
     },
     "execution_count": 164,
     "metadata": {},
     "output_type": "execute_result"
    },
    {
     "data": {
      "image/png": "[encoded data removed]",
      "text/plain": [
       "<Figure size 432x288 with 1 Axes>"
      ]
     },
     "metadata": {},
     "output_type": "display_data"
    }
   ],
   "source": [
    "#scatter plot between BMI and Charges\n",
    "plt.scatter(insurance_dataset.bmi,insurance_dataset.charges)"
   ]
  },
  {
   "cell_type": "markdown",
   "id": "4632b7a5",
   "metadata": {},
   "source": [
    "# DATA PRE-PROCESSING\n",
    "\n",
    "### Encoding Categorical Features"
   ]
  },
  {
   "cell_type": "code",
   "execution_count": 165,
   "id": "62cf77bc",
   "metadata": {},
   "outputs": [],
   "source": [
    "# Encoding 'sex' column\n",
    "insurance_dataset.replace({'sex':{'male':0 , 'female':1}},inplace=True)\n",
    "\n",
    "# Encoding 'smoker' column\n",
    "insurance_dataset.replace({'smoker':{'yes':0 , 'no':1}},inplace=True)\n",
    "\n",
    "# Encoding 'region' column\n",
    "insurance_dataset.replace({'region':{'southeast':0 , 'southwest':1 , 'northwest':2 , 'northeast':3}},inplace=True)"
   ]
  },
  {
   "cell_type": "code",
   "execution_count": 166,
   "id": "64b17649",
   "metadata": {},
   "outputs": [
    {
     "data": {
      "text/html": [
       "<div>\n",
       "<style scoped>\n",
       "    .dataframe tbody tr th:only-of-type {\n",
       "        vertical-align: middle;\n",
       "    }\n",
       "\n",
       "    .dataframe tbody tr th {\n",
       "        vertical-align: top;\n",
       "    }\n",
       "\n",
       "    .dataframe thead th {\n",
       "        text-align: right;\n",
       "    }\n",
       "</style>\n",
       "<table border=\"1\" class=\"dataframe\">\n",
       "  <thead>\n",
       "    <tr style=\"text-align: right;\">\n",
       "      <th></th>\n",
       "      <th>age</th>\n",
       "      <th>sex</th>\n",
       "      <th>bmi</th>\n",
       "      <th>children</th>\n",
       "      <th>smoker</th>\n",
       "      <th>region</th>\n",
       "      <th>charges</th>\n",
       "    </tr>\n",
       "  </thead>\n",
       "  <tbody>\n",
       "    <tr>\n",
       "      <th>0</th>\n",
       "      <td>19</td>\n",
       "      <td>1</td>\n",
       "      <td>27.900</td>\n",
       "      <td>0</td>\n",
       "      <td>0</td>\n",
       "      <td>1</td>\n",
       "      <td>16884.92400</td>\n",
       "    </tr>\n",
       "    <tr>\n",
       "      <th>1</th>\n",
       "      <td>18</td>\n",
       "      <td>0</td>\n",
       "      <td>33.770</td>\n",
       "      <td>1</td>\n",
       "      <td>1</td>\n",
       "      <td>0</td>\n",
       "      <td>1725.55230</td>\n",
       "    </tr>\n",
       "    <tr>\n",
       "      <th>2</th>\n",
       "      <td>28</td>\n",
       "      <td>0</td>\n",
       "      <td>33.000</td>\n",
       "      <td>3</td>\n",
       "      <td>1</td>\n",
       "      <td>0</td>\n",
       "      <td>4449.46200</td>\n",
       "    </tr>\n",
       "    <tr>\n",
       "      <th>3</th>\n",
       "      <td>33</td>\n",
       "      <td>0</td>\n",
       "      <td>22.705</td>\n",
       "      <td>0</td>\n",
       "      <td>1</td>\n",
       "      <td>2</td>\n",
       "      <td>21984.47061</td>\n",
       "    </tr>\n",
       "    <tr>\n",
       "      <th>4</th>\n",
       "      <td>32</td>\n",
       "      <td>0</td>\n",
       "      <td>28.880</td>\n",
       "      <td>0</td>\n",
       "      <td>1</td>\n",
       "      <td>2</td>\n",
       "      <td>3866.85520</td>\n",
       "    </tr>\n",
       "    <tr>\n",
       "      <th>...</th>\n",
       "      <td>...</td>\n",
       "      <td>...</td>\n",
       "      <td>...</td>\n",
       "      <td>...</td>\n",
       "      <td>...</td>\n",
       "      <td>...</td>\n",
       "      <td>...</td>\n",
       "    </tr>\n",
       "    <tr>\n",
       "      <th>1333</th>\n",
       "      <td>50</td>\n",
       "      <td>0</td>\n",
       "      <td>30.970</td>\n",
       "      <td>3</td>\n",
       "      <td>1</td>\n",
       "      <td>2</td>\n",
       "      <td>10600.54830</td>\n",
       "    </tr>\n",
       "    <tr>\n",
       "      <th>1334</th>\n",
       "      <td>18</td>\n",
       "      <td>1</td>\n",
       "      <td>31.920</td>\n",
       "      <td>0</td>\n",
       "      <td>1</td>\n",
       "      <td>3</td>\n",
       "      <td>2205.98080</td>\n",
       "    </tr>\n",
       "    <tr>\n",
       "      <th>1335</th>\n",
       "      <td>18</td>\n",
       "      <td>1</td>\n",
       "      <td>36.850</td>\n",
       "      <td>0</td>\n",
       "      <td>1</td>\n",
       "      <td>0</td>\n",
       "      <td>1629.83350</td>\n",
       "    </tr>\n",
       "    <tr>\n",
       "      <th>1336</th>\n",
       "      <td>21</td>\n",
       "      <td>1</td>\n",
       "      <td>25.800</td>\n",
       "      <td>0</td>\n",
       "      <td>1</td>\n",
       "      <td>1</td>\n",
       "      <td>2007.94500</td>\n",
       "    </tr>\n",
       "    <tr>\n",
       "      <th>1337</th>\n",
       "      <td>61</td>\n",
       "      <td>1</td>\n",
       "      <td>29.070</td>\n",
       "      <td>0</td>\n",
       "      <td>0</td>\n",
       "      <td>2</td>\n",
       "      <td>29141.36030</td>\n",
       "    </tr>\n",
       "  </tbody>\n",
       "</table>\n",
       "<p>1338 rows × 7 columns</p>\n",
       "</div>"
      ],
      "text/plain": [
       "      age  sex     bmi  children  smoker  region      charges\n",
       "0      19    1  27.900         0       0       1  16884.92400\n",
       "1      18    0  33.770         1       1       0   1725.55230\n",
       "2      28    0  33.000         3       1       0   4449.46200\n",
       "3      33    0  22.705         0       1       2  21984.47061\n",
       "4      32    0  28.880         0       1       2   3866.85520\n",
       "...   ...  ...     ...       ...     ...     ...          ...\n",
       "1333   50    0  30.970         3       1       2  10600.54830\n",
       "1334   18    1  31.920         0       1       3   2205.98080\n",
       "1335   18    1  36.850         0       1       0   1629.83350\n",
       "1336   21    1  25.800         0       1       1   2007.94500\n",
       "1337   61    1  29.070         0       0       2  29141.36030\n",
       "\n",
       "[1338 rows x 7 columns]"
      ]
     },
     "execution_count": 166,
     "metadata": {},
     "output_type": "execute_result"
    }
   ],
   "source": [
    "insurance_dataset"
   ]
  },
  {
   "cell_type": "markdown",
   "id": "fc849a77",
   "metadata": {},
   "source": [
    "###  SPLITTING THE FEATURES AND TARGET"
   ]
  },
  {
   "cell_type": "code",
   "execution_count": 167,
   "id": "4f19d95a",
   "metadata": {},
   "outputs": [],
   "source": [
    "X1 = insurance_dataset.drop(columns='charges',axis=1)\n",
    "Y1 = insurance_dataset['charges']"
   ]
  },
  {
   "cell_type": "code",
   "execution_count": 168,
   "id": "f0876b68",
   "metadata": {},
   "outputs": [
    {
     "name": "stdout",
     "output_type": "stream",
     "text": [
      "      age  sex     bmi  children  smoker  region\n",
      "0      19    1  27.900         0       0       1\n",
      "1      18    0  33.770         1       1       0\n",
      "2      28    0  33.000         3       1       0\n",
      "3      33    0  22.705         0       1       2\n",
      "4      32    0  28.880         0       1       2\n",
      "...   ...  ...     ...       ...     ...     ...\n",
      "1333   50    0  30.970         3       1       2\n",
      "1334   18    1  31.920         0       1       3\n",
      "1335   18    1  36.850         0       1       0\n",
      "1336   21    1  25.800         0       1       1\n",
      "1337   61    1  29.070         0       0       2\n",
      "\n",
      "[1338 rows x 6 columns]\n"
     ]
    }
   ],
   "source": [
    "print(X1)"
   ]
  },
  {
   "cell_type": "code",
   "execution_count": 169,
   "id": "68b677bf",
   "metadata": {},
   "outputs": [
    {
     "name": "stdout",
     "output_type": "stream",
     "text": [
      "0       16884.92400\n",
      "1        1725.55230\n",
      "2        4449.46200\n",
      "3       21984.47061\n",
      "4        3866.85520\n",
      "           ...     \n",
      "1333    10600.54830\n",
      "1334     2205.98080\n",
      "1335     1629.83350\n",
      "1336     2007.94500\n",
      "1337    29141.36030\n",
      "Name: charges, Length: 1338, dtype: float64\n"
     ]
    }
   ],
   "source": [
    "print(Y1)"
   ]
  },
  {
   "cell_type": "markdown",
   "id": "fe7a22ce",
   "metadata": {},
   "source": [
    "### SPLITTING THE DATA INTO TRAINING DATA AND TESTING DATA"
   ]
  },
  {
   "cell_type": "code",
   "execution_count": 170,
   "id": "4799c899",
   "metadata": {},
   "outputs": [],
   "source": [
    "X_train,X_test,Y_train,Y_test = train_test_split(X1,Y1,test_size=0.2,random_state=2)"
   ]
  },
  {
   "cell_type": "code",
   "execution_count": 171,
   "id": "061fd8ed",
   "metadata": {},
   "outputs": [
    {
     "name": "stdout",
     "output_type": "stream",
     "text": [
      "(1338, 6) (1070, 6) (268, 6)\n"
     ]
    }
   ],
   "source": [
    "print(X1.shape , X_train.shape , X_test.shape)"
   ]
  },
  {
   "cell_type": "markdown",
   "id": "c414ccfd",
   "metadata": {},
   "source": [
    "# MODEL TRAINING"
   ]
  },
  {
   "cell_type": "markdown",
   "id": "0f179439",
   "metadata": {},
   "source": [
    "## LINEAR REGRESSION"
   ]
  },
  {
   "cell_type": "code",
   "execution_count": 172,
   "id": "597c5204",
   "metadata": {},
   "outputs": [],
   "source": [
    "# Loading the Linear Regression Model\n",
    "regressor = LinearRegression()"
   ]
  },
  {
   "cell_type": "code",
   "execution_count": 173,
   "id": "68328a9f",
   "metadata": {},
   "outputs": [
    {
     "data": {
      "text/plain": [
       "LinearRegression()"
      ]
     },
     "execution_count": 173,
     "metadata": {},
     "output_type": "execute_result"
    }
   ],
   "source": [
    "regressor.fit(X_train , Y_train)"
   ]
  },
  {
   "cell_type": "markdown",
   "id": "75381a86",
   "metadata": {},
   "source": [
    "### MODEL EVALUATION"
   ]
  },
  {
   "cell_type": "code",
   "execution_count": 174,
   "id": "3c4f1c87",
   "metadata": {},
   "outputs": [],
   "source": [
    "# Prediction on Training Data\n",
    "training_data_prediction = regressor.predict(X_train)"
   ]
  },
  {
   "cell_type": "code",
   "execution_count": 175,
   "id": "132e3d76",
   "metadata": {},
   "outputs": [
    {
     "name": "stdout",
     "output_type": "stream",
     "text": [
      "R Squarred Value :  0.7518195459072954\n"
     ]
    }
   ],
   "source": [
    "# R Squarred Value\n",
    "r2_train = metrics.r2_score(Y_train,training_data_prediction)\n",
    "print('R Squarred Value : ',r2_train)"
   ]
  },
  {
   "cell_type": "code",
   "execution_count": 176,
   "id": "eec406fc",
   "metadata": {},
   "outputs": [],
   "source": [
    "# Prediction on Test Data\n",
    "test_data_prediction = regressor.predict(X_test)"
   ]
  },
  {
   "cell_type": "code",
   "execution_count": 177,
   "id": "21e63fda",
   "metadata": {},
   "outputs": [
    {
     "name": "stdout",
     "output_type": "stream",
     "text": [
      "RMSE : 6182.956\n"
     ]
    }
   ],
   "source": [
    "#RMSE Value\n",
    "from sklearn.metrics import mean_squared_error\n",
    "rmse_linear = (np.sqrt(mean_squared_error(Y_test, test_data_prediction)))\n",
    "print('RMSE : {0:.3f}'.format(rmse_linear))"
   ]
  },
  {
   "cell_type": "code",
   "execution_count": 178,
   "id": "d7ad3890",
   "metadata": {},
   "outputs": [
    {
     "name": "stdout",
     "output_type": "stream",
     "text": [
      "R Squarred Value :  0.7454471618659976\n",
      "Accuracy : 75.0 %\n"
     ]
    }
   ],
   "source": [
    "# R Squarred Value\n",
    "r2_test = metrics.r2_score(Y_test,test_data_prediction)\n",
    "print('R Squarred Value : ',r2_test)\n",
    "accuracy_lr = round(r2_score(Y_test,test_data_prediction),2)*100\n",
    "print('Accuracy :',accuracy_lr,'%')"
   ]
  },
  {
   "cell_type": "markdown",
   "id": "cb7bb3ad",
   "metadata": {},
   "source": [
    "### BUILDING A PREDICTIVE SYSTEM"
   ]
  },
  {
   "cell_type": "code",
   "execution_count": 179,
   "id": "b9b3f92b",
   "metadata": {},
   "outputs": [
    {
     "name": "stdout",
     "output_type": "stream",
     "text": [
      "[27756.52626698]\n"
     ]
    },
    {
     "name": "stderr",
     "output_type": "stream",
     "text": [
      "C:\\Users\\Lenovo\\anaconda3\\lib\\site-packages\\sklearn\\base.py:450: UserWarning: X does not have valid feature names, but LinearRegression was fitted with feature names\n",
      "  warnings.warn(\n"
     ]
    }
   ],
   "source": [
    "input_data = (30,0,22.85,1,0,3)\n",
    "\n",
    "# Changing input_data to a numpy array\n",
    "input_data_as_numpy_array = np.asarray(input_data)\n",
    "\n",
    "# Reshape the array\n",
    "input_data_reshaped = input_data_as_numpy_array.reshape(1,-1)\n",
    "\n",
    "prediction = regressor.predict(input_data_reshaped)\n",
    "print(prediction)"
   ]
  },
  {
   "cell_type": "markdown",
   "id": "3bc772ea",
   "metadata": {},
   "source": [
    "# DECISION TREE REGRESSION"
   ]
  },
  {
   "cell_type": "code",
   "execution_count": 180,
   "id": "ebe53a75",
   "metadata": {},
   "outputs": [],
   "source": [
    "#Building & Loading Model\n",
    "from sklearn.tree import DecisionTreeRegressor\n",
    "dt = DecisionTreeRegressor(max_depth = 3)"
   ]
  },
  {
   "cell_type": "code",
   "execution_count": 181,
   "id": "dd2d8a93",
   "metadata": {},
   "outputs": [
    {
     "data": {
      "text/plain": [
       "DecisionTreeRegressor(max_depth=3)"
      ]
     },
     "execution_count": 181,
     "metadata": {},
     "output_type": "execute_result"
    }
   ],
   "source": [
    "# Fitting the model\n",
    "dt.fit(X_train,Y_train)"
   ]
  },
  {
   "cell_type": "markdown",
   "id": "58764a02",
   "metadata": {},
   "source": [
    "### MODEL EVALUATION"
   ]
  },
  {
   "cell_type": "code",
   "execution_count": 182,
   "id": "604b2fe7",
   "metadata": {},
   "outputs": [],
   "source": [
    "# Prediction on Training Data\n",
    "train_data_prediction = dt.predict(X_train)"
   ]
  },
  {
   "cell_type": "code",
   "execution_count": 183,
   "id": "17f71896",
   "metadata": {},
   "outputs": [
    {
     "name": "stdout",
     "output_type": "stream",
     "text": [
      "R Squarred Value :  0.8582042344756327\n"
     ]
    }
   ],
   "source": [
    "# R Squarred Value\n",
    "r2_train_DT = metrics.r2_score(Y_train,train_data_prediction)\n",
    "print('R Squarred Value : ',r2_train_DT)"
   ]
  },
  {
   "cell_type": "code",
   "execution_count": 184,
   "id": "f4a6317b",
   "metadata": {},
   "outputs": [],
   "source": [
    "# Prediction on Test Data\n",
    "testing_data_prediction = dt.predict(X_test)"
   ]
  },
  {
   "cell_type": "code",
   "execution_count": 185,
   "id": "bbba0a63",
   "metadata": {},
   "outputs": [
    {
     "name": "stdout",
     "output_type": "stream",
     "text": [
      "RMSE : 4731.645\n"
     ]
    }
   ],
   "source": [
    "#RMSE Value\n",
    "rmse_dt = (np.sqrt(mean_squared_error(Y_test, testing_data_prediction)))\n",
    "print('RMSE : {0:.3f}'.format(rmse_dt))"
   ]
  },
  {
   "cell_type": "code",
   "execution_count": 186,
   "id": "00917c4e",
   "metadata": {},
   "outputs": [
    {
     "name": "stdout",
     "output_type": "stream",
     "text": [
      "R Squarred Value :  0.8509231896803976\n",
      "Accuracy : 85.0 %\n"
     ]
    }
   ],
   "source": [
    "# R Squarred Value\n",
    "r2_test_DT = metrics.r2_score(Y_test,testing_data_prediction)\n",
    "print('R Squarred Value : ',r2_test_DT)\n",
    "accuracy_dt = round(r2_score(Y_test,testing_data_prediction),2)*100\n",
    "print('Accuracy :',accuracy_dt,'%')"
   ]
  },
  {
   "cell_type": "markdown",
   "id": "398c0150",
   "metadata": {},
   "source": [
    "### BUILDING A PREDICTIVE SYSTEM"
   ]
  },
  {
   "cell_type": "code",
   "execution_count": 187,
   "id": "3ad59aa7",
   "metadata": {},
   "outputs": [
    {
     "name": "stdout",
     "output_type": "stream",
     "text": [
      "[18273.37754623]\n"
     ]
    },
    {
     "name": "stderr",
     "output_type": "stream",
     "text": [
      "C:\\Users\\Lenovo\\anaconda3\\lib\\site-packages\\sklearn\\base.py:450: UserWarning: X does not have valid feature names, but DecisionTreeRegressor was fitted with feature names\n",
      "  warnings.warn(\n"
     ]
    }
   ],
   "source": [
    "input_data = (30,0,22.85,1,0,3)\n",
    "\n",
    "# Changing input_data to a numpy array\n",
    "input_data_as_numpy_array = np.asarray(input_data)\n",
    "\n",
    "# Reshape the array\n",
    "input_data_reshaped = input_data_as_numpy_array.reshape(1,-1)\n",
    "\n",
    "prediction = dt.predict(input_data_reshaped)\n",
    "print(prediction)"
   ]
  },
  {
   "cell_type": "markdown",
   "id": "73527a54",
   "metadata": {},
   "source": [
    "# RANDOM FOREST REGRESSION"
   ]
  },
  {
   "cell_type": "code",
   "execution_count": 188,
   "id": "06a61cc6",
   "metadata": {},
   "outputs": [],
   "source": [
    "#Building & Loading Model\n",
    "from sklearn.ensemble import RandomForestRegressor\n",
    "rf = RandomForestRegressor(max_depth = 3, n_estimators=500)"
   ]
  },
  {
   "cell_type": "code",
   "execution_count": 189,
   "id": "acbf0e5d",
   "metadata": {},
   "outputs": [
    {
     "data": {
      "text/plain": [
       "RandomForestRegressor(max_depth=3, n_estimators=500)"
      ]
     },
     "execution_count": 189,
     "metadata": {},
     "output_type": "execute_result"
    }
   ],
   "source": [
    "# Fitting the model\n",
    "rf.fit(X_train , Y_train)"
   ]
  },
  {
   "cell_type": "markdown",
   "id": "907230e4",
   "metadata": {},
   "source": [
    "### MODEL EVALUATION"
   ]
  },
  {
   "cell_type": "code",
   "execution_count": 190,
   "id": "895b0e1a",
   "metadata": {},
   "outputs": [],
   "source": [
    "# Prediction on Training Data\n",
    "train_prediction = rf.predict(X_train)"
   ]
  },
  {
   "cell_type": "code",
   "execution_count": 191,
   "id": "c25daa9e",
   "metadata": {},
   "outputs": [
    {
     "name": "stdout",
     "output_type": "stream",
     "text": [
      "R Squarred Value :  0.8629500459242321\n"
     ]
    }
   ],
   "source": [
    "# R Squarred Value\n",
    "r2_train_RF = metrics.r2_score(Y_train,train_prediction)\n",
    "print('R Squarred Value : ',r2_train_RF)"
   ]
  },
  {
   "cell_type": "code",
   "execution_count": 192,
   "id": "6d413800",
   "metadata": {},
   "outputs": [],
   "source": [
    "# Prediction on Test Data\n",
    "test_prediction = rf.predict(X_test)"
   ]
  },
  {
   "cell_type": "code",
   "execution_count": 193,
   "id": "a77f42c0",
   "metadata": {},
   "outputs": [
    {
     "name": "stdout",
     "output_type": "stream",
     "text": [
      "RMSE : 4610.326\n"
     ]
    }
   ],
   "source": [
    "#RMSE Value\n",
    "rmse_rf = (np.sqrt(mean_squared_error(Y_test, test_prediction)))\n",
    "print('RMSE : {0:.3f}'.format(rmse_rf))"
   ]
  },
  {
   "cell_type": "code",
   "execution_count": 194,
   "id": "e07cb092",
   "metadata": {},
   "outputs": [
    {
     "name": "stdout",
     "output_type": "stream",
     "text": [
      "R Squarred Value :  0.8584698514558176\n",
      "Accuracy : 86.0 %\n"
     ]
    }
   ],
   "source": [
    "# R Squarred Value\n",
    "r2_test_RF = metrics.r2_score(Y_test,test_prediction)\n",
    "print('R Squarred Value : ',r2_test_RF)\n",
    "accuracy_rf = round(r2_score(Y_test,test_prediction),2)*100\n",
    "print('Accuracy :',accuracy_rf,'%')"
   ]
  },
  {
   "cell_type": "markdown",
   "id": "8b357ad9",
   "metadata": {},
   "source": [
    "### BUILDING A PREDICTIVE SYSTEM"
   ]
  },
  {
   "cell_type": "code",
   "execution_count": 195,
   "id": "d70c0495",
   "metadata": {},
   "outputs": [
    {
     "name": "stdout",
     "output_type": "stream",
     "text": [
      "[18142.737747]\n"
     ]
    },
    {
     "name": "stderr",
     "output_type": "stream",
     "text": [
      "C:\\Users\\Lenovo\\anaconda3\\lib\\site-packages\\sklearn\\base.py:450: UserWarning: X does not have valid feature names, but RandomForestRegressor was fitted with feature names\n",
      "  warnings.warn(\n"
     ]
    }
   ],
   "source": [
    "input_data = (30,0,22.85,1,0,3)\n",
    "\n",
    "# Changing input_data to a numpy array\n",
    "input_data_as_numpy_array = np.asarray(input_data)\n",
    "\n",
    "# Reshape the array\n",
    "input_data_reshaped = input_data_as_numpy_array.reshape(1,-1)\n",
    "\n",
    "prediction = rf.predict(input_data_reshaped)\n",
    "print(prediction)"
   ]
  },
  {
   "cell_type": "markdown",
   "id": "82b67453",
   "metadata": {},
   "source": [
    "# GRADIENT BOOST REGRESSION"
   ]
  },
  {
   "cell_type": "code",
   "execution_count": 196,
   "id": "514d84cb",
   "metadata": {},
   "outputs": [],
   "source": [
    "#Building & Loading Model\n",
    "from sklearn.ensemble import GradientBoostingRegressor\n",
    "gbr = GradientBoostingRegressor(max_depth=3, n_estimators=50, learning_rate =.2)\n",
    "new_gbr=GradientBoostingRegressor(max_depth=3, n_estimators=50, learning_rate =.2)"
   ]
  },
  {
   "cell_type": "code",
   "execution_count": 197,
   "id": "0cb8eade",
   "metadata": {},
   "outputs": [
    {
     "data": {
      "text/plain": [
       "GradientBoostingRegressor(learning_rate=0.2, n_estimators=50)"
      ]
     },
     "execution_count": 197,
     "metadata": {},
     "output_type": "execute_result"
    }
   ],
   "source": [
    "# Fitting the model\n",
    "gbr.fit(X_train , Y_train)\n",
    "new_gbr.fit(X1 , Y1)"
   ]
  },
  {
   "cell_type": "markdown",
   "id": "607cb3b8",
   "metadata": {},
   "source": [
    "### MODEL EVALUATION"
   ]
  },
  {
   "cell_type": "code",
   "execution_count": 198,
   "id": "a15f7d4c",
   "metadata": {},
   "outputs": [],
   "source": [
    "# Prediction on Training Data\n",
    "training_prediction = gbr.predict(X_train)"
   ]
  },
  {
   "cell_type": "code",
   "execution_count": 199,
   "id": "8ac9c4cc",
   "metadata": {},
   "outputs": [
    {
     "name": "stdout",
     "output_type": "stream",
     "text": [
      "R Squarred Value :  0.9052167524729932\n"
     ]
    }
   ],
   "source": [
    "# R Squarred Value\n",
    "r2_train_GBR = metrics.r2_score(Y_train,training_prediction)\n",
    "print('R Squarred Value : ',r2_train_GBR)"
   ]
  },
  {
   "cell_type": "code",
   "execution_count": 200,
   "id": "5c3b6853",
   "metadata": {},
   "outputs": [],
   "source": [
    "# Prediction on Test Data\n",
    "testing_prediction = gbr.predict(X_test)"
   ]
  },
  {
   "cell_type": "code",
   "execution_count": 201,
   "id": "d543e34b",
   "metadata": {},
   "outputs": [
    {
     "name": "stdout",
     "output_type": "stream",
     "text": [
      "RMSE : 4442.966\n"
     ]
    }
   ],
   "source": [
    "#RMSE Value\n",
    "rmse_gbr = (np.sqrt(mean_squared_error(Y_test, testing_prediction)))\n",
    "print('RMSE : {0:.3f}'.format(rmse_gbr))"
   ]
  },
  {
   "cell_type": "code",
   "execution_count": 202,
   "id": "5b80d8ea",
   "metadata": {},
   "outputs": [
    {
     "name": "stdout",
     "output_type": "stream",
     "text": [
      "R Squarred Value :  0.8685587700508713\n",
      "Accuracy : 87.0 %\n"
     ]
    }
   ],
   "source": [
    "# R Squarred Value\n",
    "r2_test_GBR = metrics.r2_score(Y_test,testing_prediction)\n",
    "print('R Squarred Value : ',r2_test_GBR)\n",
    "accuracy_gbr = round(r2_score(Y_test,testing_prediction),2)*100\n",
    "print('Accuracy :',accuracy_gbr,'%')"
   ]
  },
  {
   "cell_type": "code",
   "execution_count": 203,
   "id": "5f3b9cf8",
   "metadata": {},
   "outputs": [
    {
     "name": "stdout",
     "output_type": "stream",
     "text": [
      "RMSE : 3784.510\n",
      "R Squarred Value :  0.9022639375906064\n",
      "Accuracy : 90.0 %\n"
     ]
    }
   ],
   "source": [
    "#Final Model Testing\n",
    "final_prediction = new_gbr.predict(X1)\n",
    "#RMSE Value\n",
    "new_rmse_gbr = (np.sqrt(mean_squared_error(Y1, final_prediction)))\n",
    "print('RMSE : {0:.3f}'.format(new_rmse_gbr))\n",
    "# R Squarred Value\n",
    "new_r2_test_GBR = metrics.r2_score(Y1,final_prediction)\n",
    "print('R Squarred Value : ',new_r2_test_GBR)\n",
    "new_accuracy_gbr = round(r2_score(Y1,final_prediction),2)*100\n",
    "print('Accuracy :',new_accuracy_gbr,'%')"
   ]
  },
  {
   "cell_type": "markdown",
   "id": "43eaa9a5",
   "metadata": {},
   "source": [
    "### BUILDING A PREDICTIVE SYSTEM"
   ]
  },
  {
   "cell_type": "code",
   "execution_count": 212,
   "id": "ec928284",
   "metadata": {},
   "outputs": [
    {
     "name": "stdout",
     "output_type": "stream",
     "text": [
      "[24129.79352756]\n"
     ]
    },
    {
     "name": "stderr",
     "output_type": "stream",
     "text": [
      "C:\\Users\\Lenovo\\anaconda3\\lib\\site-packages\\sklearn\\base.py:450: UserWarning: X does not have valid feature names, but GradientBoostingRegressor was fitted with feature names\n",
      "  warnings.warn(\n"
     ]
    }
   ],
   "source": [
    " input_data = (50,0,26.45,1,0,3)\n",
    "\n",
    "# Changing input_data to a numpy array\n",
    "input_data_as_numpy_array = np.asarray(input_data)\n",
    "\n",
    "# Reshape the array\n",
    "input_data_reshaped = input_data_as_numpy_array.reshape(1,-1)\n",
    "\n",
    "prediction = gbr.predict(input_data_reshaped)\n",
    "print(prediction)"
   ]
  },
  {
   "cell_type": "markdown",
   "id": "bbe500d4",
   "metadata": {},
   "source": [
    "### MODEL EVALUATION COMPARISON"
   ]
  },
  {
   "cell_type": "code",
   "execution_count": 205,
   "id": "37542d34",
   "metadata": {},
   "outputs": [],
   "source": [
    "models = [('Linear Regression', rmse_linear, r2_train, r2_test, accuracy_lr),\n",
    "          ('Decision Tree Regression', rmse_dt, r2_train_DT, r2_test_DT, accuracy_dt),\n",
    "          ('Random Forest Regression', rmse_rf, r2_train_RF, r2_test_RF, accuracy_rf),\n",
    "          ('Gradient Boost Regression', rmse_gbr, r2_train_GBR, r2_test_GBR, accuracy_gbr)]"
   ]
  },
  {
   "cell_type": "code",
   "execution_count": 206,
   "id": "9a0d8809",
   "metadata": {},
   "outputs": [
    {
     "data": {
      "text/html": [
       "<div>\n",
       "<style scoped>\n",
       "    .dataframe tbody tr th:only-of-type {\n",
       "        vertical-align: middle;\n",
       "    }\n",
       "\n",
       "    .dataframe tbody tr th {\n",
       "        vertical-align: top;\n",
       "    }\n",
       "\n",
       "    .dataframe thead th {\n",
       "        text-align: right;\n",
       "    }\n",
       "</style>\n",
       "<table border=\"1\" class=\"dataframe\">\n",
       "  <thead>\n",
       "    <tr style=\"text-align: right;\">\n",
       "      <th></th>\n",
       "      <th>Model</th>\n",
       "      <th>RMSE</th>\n",
       "      <th>R2_Score(training)</th>\n",
       "      <th>R2_Score(test)</th>\n",
       "      <th>Accuracy(%)</th>\n",
       "    </tr>\n",
       "  </thead>\n",
       "  <tbody>\n",
       "    <tr>\n",
       "      <th>0</th>\n",
       "      <td>Linear Regression</td>\n",
       "      <td>6182.955535</td>\n",
       "      <td>0.751820</td>\n",
       "      <td>0.745447</td>\n",
       "      <td>75.0</td>\n",
       "    </tr>\n",
       "    <tr>\n",
       "      <th>1</th>\n",
       "      <td>Decision Tree Regression</td>\n",
       "      <td>4731.645479</td>\n",
       "      <td>0.858204</td>\n",
       "      <td>0.850923</td>\n",
       "      <td>85.0</td>\n",
       "    </tr>\n",
       "    <tr>\n",
       "      <th>2</th>\n",
       "      <td>Random Forest Regression</td>\n",
       "      <td>4610.325967</td>\n",
       "      <td>0.862950</td>\n",
       "      <td>0.858470</td>\n",
       "      <td>86.0</td>\n",
       "    </tr>\n",
       "    <tr>\n",
       "      <th>3</th>\n",
       "      <td>Gradient Boost Regression</td>\n",
       "      <td>4442.965681</td>\n",
       "      <td>0.905217</td>\n",
       "      <td>0.868559</td>\n",
       "      <td>87.0</td>\n",
       "    </tr>\n",
       "  </tbody>\n",
       "</table>\n",
       "</div>"
      ],
      "text/plain": [
       "                       Model         RMSE  R2_Score(training)  R2_Score(test)  \\\n",
       "0          Linear Regression  6182.955535            0.751820        0.745447   \n",
       "1   Decision Tree Regression  4731.645479            0.858204        0.850923   \n",
       "2   Random Forest Regression  4610.325967            0.862950        0.858470   \n",
       "3  Gradient Boost Regression  4442.965681            0.905217        0.868559   \n",
       "\n",
       "   Accuracy(%)  \n",
       "0         75.0  \n",
       "1         85.0  \n",
       "2         86.0  \n",
       "3         87.0  "
      ]
     },
     "execution_count": 206,
     "metadata": {},
     "output_type": "execute_result"
    }
   ],
   "source": [
    "prediction = pd.DataFrame(data = models, columns=['Model', 'RMSE', 'R2_Score(training)', 'R2_Score(test)', 'Accuracy(%)'])\n",
    "prediction"
   ]
  },
  {
   "cell_type": "code",
   "execution_count": 207,
   "id": "581f698f",
   "metadata": {},
   "outputs": [
    {
     "data": {
      "image/png": "[encoded data removed]",
      "text/plain": [
       "<Figure size 864x504 with 1 Axes>"
      ]
     },
     "metadata": {},
     "output_type": "display_data"
    }
   ],
   "source": [
    "# Plotting of model performance\n",
    "plt.figure(figsize=(12,7))\n",
    "prediction.sort_values(by=['Accuracy(%)'], ascending=True, inplace=True)\n",
    "\n",
    "sns.barplot(x='Accuracy(%)', y='Model',data = prediction, palette='bright')\n",
    "plt.xlabel('ACCURACY(%)')\n",
    "plt.ylabel('MODELS')\n",
    "plt.show()"
   ]
  },
  {
   "cell_type": "markdown",
   "id": "48583d26",
   "metadata": {},
   "source": [
    "# Saving the Trained Model"
   ]
  },
  {
   "cell_type": "code",
   "execution_count": 208,
   "id": "cb62b6ae",
   "metadata": {},
   "outputs": [],
   "source": [
    "import pickle"
   ]
  },
  {
   "cell_type": "code",
   "execution_count": 209,
   "id": "47da5991",
   "metadata": {},
   "outputs": [],
   "source": [
    "filename = 'welltrained_model.sav'\n",
    "pickle.dump(gbr, open(filename, 'wb'))"
   ]
  },
  {
   "cell_type": "code",
   "execution_count": 210,
   "id": "4acc091a",
   "metadata": {},
   "outputs": [],
   "source": [
    "#Loading the Saved Model\n",
    "\n",
    "loaded_model = pickle.load(open('welltrained_model.sav', 'rb'))"
   ]
  },
  {
   "cell_type": "code",
   "execution_count": 213,
   "id": "12bf62e8",
   "metadata": {},
   "outputs": [
    {
     "name": "stdout",
     "output_type": "stream",
     "text": [
      "$ [23810.13536424]\n"
     ]
    },
    {
     "name": "stderr",
     "output_type": "stream",
     "text": [
      "C:\\Users\\Lenovo\\anaconda3\\lib\\site-packages\\sklearn\\base.py:450: UserWarning: X does not have valid feature names, but GradientBoostingRegressor was fitted with feature names\n",
      "  warnings.warn(\n"
     ]
    }
   ],
   "source": [
    "input_data = (50,0,22.85,1,0,3)\n",
    "\n",
    "# Changing input_data to a numpy array\n",
    "input_data_as_numpy_array = np.asarray(input_data)\n",
    "\n",
    "# Reshape the array\n",
    "input_data_reshaped = input_data_as_numpy_array.reshape(1,-1)\n",
    "\n",
    "prediction = loaded_model.predict(input_data_reshaped)\n",
    "print('$',prediction)"
   ]
  },
  {
   "cell_type": "code",
   "execution_count": null,
   "id": "9a62b64a",
   "metadata": {},
   "outputs": [],
   "source": []
  }
 ],
 "metadata": {
  "kernelspec": {
   "display_name": "Python 3 (ipykernel)",
   "language": "python",
   "name": "python3"
  },
  "language_info": {
   "codemirror_mode": {
    "name": "ipython",
    "version": 3
   },
   "file_extension": ".py",
   "mimetype": "text/x-python",
   "name": "python",
   "nbconvert_exporter": "python",
   "pygments_lexer": "ipython3",
   "version": "3.9.12"
  }
 },
 "nbformat": 4,
 "nbformat_minor": 5
}
